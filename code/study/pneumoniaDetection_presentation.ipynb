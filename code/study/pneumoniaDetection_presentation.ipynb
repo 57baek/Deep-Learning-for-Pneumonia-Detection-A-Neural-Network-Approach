{
 "cells": [
  {
   "cell_type": "code",
   "execution_count": null,
   "metadata": {},
   "outputs": [],
   "source": [
    "# Dataset\n",
    "data_path = '/kaggle/input/chest-xray-pneumonia/chest_xray/'\n",
    "\n",
    "train_path = data_path + 'train/'\n",
    "valid_path = data_path + 'val/'\n",
    "test_path = data_path + 'test/'"
   ]
  },
  {
   "cell_type": "code",
   "execution_count": null,
   "metadata": {},
   "outputs": [],
   "source": [
    "from glob import glob\n",
    "\n",
    "# Provide all the files under each path\n",
    "print(f'Number of Training Data: {len(glob(train_path + \"*/*\"))}')\n",
    "print(f'Number of Validation Data: {len(glob(valid_path + \"*/*\"))}')\n",
    "print(f'Number of Test Data: {len(glob(test_path + \"*/*\"))}')"
   ]
  },
  {
   "cell_type": "code",
   "execution_count": null,
   "metadata": {},
   "outputs": [],
   "source": [
    "all_normal_imgs = []\n",
    "all_pneumonia_imgs = []\n",
    "\n",
    "for cat in ['train/', 'val/', 'test/']:\n",
    "    data_cat_path = data_path + cat\n",
    "    # dir of normal or pneumonia images    \n",
    "    normal_imgs = glob(data_cat_path + 'NORMAL/*')\n",
    "    pneumonia_imgs = glob(data_cat_path + 'PNEUMONIA/*')\n",
    "    # Add to the corresponding list\n",
    "    all_normal_imgs.extend(normal_imgs)\n",
    "    all_pneumonia_imgs.extend(pneumonia_imgs)\n",
    "    \n",
    "print(f'Number of Normal Chest X-ray Images: {len(all_normal_imgs)}')\n",
    "print(f'Number of Pneumonia Chest X-ray Images: {len(all_pneumonia_imgs)}')"
   ]
  },
  {
   "cell_type": "code",
   "execution_count": null,
   "metadata": {},
   "outputs": [],
   "source": [
    "import matplotlib as mpl\n",
    "import matplotlib.pyplot as plt\n",
    "%matplotlib inline\n",
    "\n",
    "mpl.rc('font', size = 15)\n",
    "plt.figure(figsize = (7, 7))\n",
    "\n",
    "label = ['Normal', 'Pneumonia']\n",
    "\n",
    "plt.pie([len(all_normal_imgs), len(all_pneumonia_imgs)],\n",
    "    labels = label,\n",
    "    autopct = '%.1f%%')"
   ]
  },
  {
   "cell_type": "code",
   "execution_count": null,
   "metadata": {},
   "outputs": [],
   "source": [
    "import matplotlib.gridspec as gridspec\n",
    "import cv2\n",
    "\n",
    "def show_image(img_paths, rows = 2, cols = 3):\n",
    "    # Error if more images exist then the rows * cols\n",
    "    assert len(img_paths) <= rows * cols\n",
    "    \n",
    "    mpl.rc('font', size = 9)\n",
    "    plt.figure(figsize = (15, 8))\n",
    "    grid = gridspec.GridSpec(rows, cols)\n",
    "    \n",
    "    for idx, img_path in enumerate(img_paths):\n",
    "        image = cv2.imread(img_path)\n",
    "        ax = plt.subplot(grid[idx])\n",
    "        ax.imshow(image)"
   ]
  },
  {
   "cell_type": "code",
   "execution_count": null,
   "metadata": {},
   "outputs": [],
   "source": [
    "# Show the last 6 images\n",
    "num_of_imgs = 6\n",
    "\n",
    "normal_img_paths = all_normal_imgs[-num_of_imgs:]\n",
    "show_image(normal_img_paths)"
   ]
  },
  {
   "cell_type": "code",
   "execution_count": null,
   "metadata": {},
   "outputs": [],
   "source": [
    "pneumonia_img_paths = all_pneumonia_imgs[-num_of_imgs:]\n",
    "show_image(pneumonia_img_paths)"
   ]
  }
 ],
 "metadata": {
  "language_info": {
   "name": "python"
  }
 },
 "nbformat": 4,
 "nbformat_minor": 2
}
